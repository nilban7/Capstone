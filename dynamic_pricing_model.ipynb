
{
 "cells": [
  {
   "cell_type": "markdown",
   "metadata": {},
   "source": [
    "# 🚗 Dynamic Pricing for Urban Parking Lots\n",
    "## Capstone Project – Summer Analytics 2025\n",
    "### Niladri Banerjee"
   ]
  },
  {
   "cell_type": "markdown",
   "metadata": {},
   "source": [
    "### 🔹 Step 1: Import Libraries"
   ]
  },
  {
   "cell_type": "code",
   "execution_count": null,
   "metadata": {},
   "outputs": [],
   "source": [
    "import pandas as pd\n",
    "import numpy as np\n",
    "from bokeh.plotting import figure, show, output_notebook\n",
    "output_notebook()"
   ]
  },
  {
   "cell_type": "markdown",
   "metadata": {},
   "source": [
    "### 🔹 Step 2: Load Dataset"
   ]
  },
  {
   "cell_type": "code",
   "execution_count": null,
   "metadata": {},
   "outputs": [],
   "source": [
    "# Assuming running in Google Colab\n",
    "from google.colab import files\n",
    "uploaded = files.upload()"
   ]
  },
  {
   "cell_type": "code",
   "execution_count": null,
   "metadata": {},
   "outputs": [],
   "source": [
    "df = pd.read_csv('Modified - modified.csv')\n",
    "df['Timestamp'] = pd.to_datetime(df['LastUpdatedDate'] + ' ' + df['LastUpdatedTime'])\n",
    "df = df.sort_values('Timestamp')\n",
    "df.head()"
   ]
  },
  {
   "cell_type": "markdown",
   "metadata": {},
   "source": [
    "### 🔹 Step 3: Model 1 – Linear Pricing Based on Occupancy"
   ]
  },
  {
   "cell_type": "code",
   "execution_count": null,
   "metadata": {},
   "outputs": [],
   "source": [
    "BASE_PRICE = 10\n",
    "ALPHA = 2\n",
    "df['LinearPrice'] = BASE_PRICE + ALPHA * (df['Occupancy'] / df['Capacity'])\n",
    "df['LinearPrice'] = df['LinearPrice'].round(2)\n",
    "df[['Timestamp', 'Occupancy', 'LinearPrice']].head()"
   ]
  },
  {
   "cell_type": "markdown",
   "metadata": {},
   "source": [
    "### 🔹 Step 4: Model 2 – Demand-Based Dynamic Pricing"
   ]
  },
  {
   "cell_type": "code",
   "execution_count": null,
   "metadata": {},
   "outputs": [],
   "source": [
    "def traffic_to_score(traffic):\n",
    "    if traffic == 'low': return 0.2\n",
    "    elif traffic == 'average': return 0.5\n",
    "    else: return 1.0\n",
    "\n",
    "def vehicle_to_weight(vehicle):\n",
    "    return {'car': 1.0, 'bike': 0.7, 'truck': 1.5}.get(vehicle, 1.0)\n",
    "\n",
    "df['TrafficScore'] = df['TrafficConditionNearby'].apply(traffic_to_score)\n",
    "df['VehicleWeight'] = df['VehicleType'].apply(vehicle_to_weight)\n",
    "\n",
    "# Demand calculation\n",
    "df['Demand'] = (0.4 * (df['Occupancy'] / df['Capacity']) +\n",
    "                0.2 * df['QueueLength'] -\n",
    "                0.2 * df['TrafficScore'] +\n",
    "                0.1 * df['IsSpecialDay'] +\n",
    "                0.1 * df['VehicleWeight'])\n",
    "\n",
    "# Normalize Demand\n",
    "d_min, d_max = df['Demand'].min(), df['Demand'].max()\n",
    "df['NormDemand'] = (df['Demand'] - d_min) / (d_max - d_min)\n",
    "\n",
    "# Price = Base * (1 + lambda * NormDemand)\n",
    "LAMBDA = 1\n",
    "df['DemandPrice'] = BASE_PRICE * (1 + LAMBDA * df['NormDemand'])\n",
    "df['DemandPrice'] = df['DemandPrice'].clip(lower=5, upper=20).round(2)\n",
    "df[['Timestamp', 'Demand', 'NormDemand', 'DemandPrice']].head()"
   ]
  },
  {
   "cell_type": "markdown",
   "metadata": {},
   "source": [
    "### 🔹 Step 5: Visualize with Bokeh"
   ]
  },
  {
   "cell_type": "code",
   "execution_count": null,
   "metadata": {},
   "outputs": [],
   "source": [
    "p = figure(x_axis_type='datetime', width=800, height=350, title='Price Comparison Over Time')\n",
    "p.line(df['Timestamp'], df['LinearPrice'], legend_label='Linear Price', color='blue')\n",
    "p.line(df['Timestamp'], df['DemandPrice'], legend_label='Demand Price', color='green')\n",
    "p.legend.location = 'top_left'\n",
    "p.xaxis.axis_label = 'Time'\n",
    "p.yaxis.axis_label = 'Price (USD)'\n",
    "show(p)"
   ]
  },
  {
   "cell_type": "markdown",
   "metadata": {},
   "source": [
    "### 🔹 Step 6: Conclusion\n",
    "- Dynamic pricing helps balance demand and maximize usage.\n",
    "- Model 2 provides smoother and context-aware pricing.\n",
    "- Model 3 can be extended with competitor proximity using lat-long."
   ]
  }
 ],
 "metadata": {
  "kernelspec": {
   "display_name": "Python 3",
   "language": "python",
   "name": "python3"
  },
  "language_info": {
   "name": "python",
   "version": "3.10"
  }
 },
 "nbformat": 4,
 "nbformat_minor": 5
}
